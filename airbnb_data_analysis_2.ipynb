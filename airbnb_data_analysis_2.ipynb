{
 "cells": [
  {
   "cell_type": "markdown",
   "metadata": {},
   "source": [
    "# Importing necessary libraries"
   ]
  },
  {
   "cell_type": "code",
   "execution_count": 1,
   "metadata": {},
   "outputs": [],
   "source": [
    "import pandas as pd\n",
    "import numpy as np\n",
    "import matplotlib.pyplot as plt\n",
    "import seaborn as sns\n",
    "\n",
    "%matplotlib inline"
   ]
  },
  {
   "cell_type": "code",
   "execution_count": 92,
   "metadata": {},
   "outputs": [],
   "source": [
    "sns.set_style('darkgrid')"
   ]
  },
  {
   "cell_type": "markdown",
   "metadata": {},
   "source": [
    "Let's look at our data."
   ]
  },
  {
   "cell_type": "code",
   "execution_count": 2,
   "metadata": {},
   "outputs": [],
   "source": [
    "boston_df = pd.read_csv(\"../data/boston airbnb data/listings.csv\")"
   ]
  },
  {
   "cell_type": "code",
   "execution_count": 3,
   "metadata": {},
   "outputs": [
    {
     "data": {
      "text/plain": [
       "Index(['id', 'listing_url', 'scrape_id', 'last_scraped', 'name', 'summary',\n",
       "       'space', 'description', 'experiences_offered', 'neighborhood_overview',\n",
       "       'notes', 'transit', 'access', 'interaction', 'house_rules',\n",
       "       'thumbnail_url', 'medium_url', 'picture_url', 'xl_picture_url',\n",
       "       'host_id', 'host_url', 'host_name', 'host_since', 'host_location',\n",
       "       'host_about', 'host_response_time', 'host_response_rate',\n",
       "       'host_acceptance_rate', 'host_is_superhost', 'host_thumbnail_url',\n",
       "       'host_picture_url', 'host_neighbourhood', 'host_listings_count',\n",
       "       'host_total_listings_count', 'host_verifications',\n",
       "       'host_has_profile_pic', 'host_identity_verified', 'street',\n",
       "       'neighbourhood', 'neighbourhood_cleansed',\n",
       "       'neighbourhood_group_cleansed', 'city', 'state', 'zipcode', 'market',\n",
       "       'smart_location', 'country_code', 'country', 'latitude', 'longitude',\n",
       "       'is_location_exact', 'property_type', 'room_type', 'accommodates',\n",
       "       'bathrooms', 'bedrooms', 'beds', 'bed_type', 'amenities', 'square_feet',\n",
       "       'price', 'weekly_price', 'monthly_price', 'security_deposit',\n",
       "       'cleaning_fee', 'guests_included', 'extra_people', 'minimum_nights',\n",
       "       'maximum_nights', 'calendar_updated', 'has_availability',\n",
       "       'availability_30', 'availability_60', 'availability_90',\n",
       "       'availability_365', 'calendar_last_scraped', 'number_of_reviews',\n",
       "       'first_review', 'last_review', 'review_scores_rating',\n",
       "       'review_scores_accuracy', 'review_scores_cleanliness',\n",
       "       'review_scores_checkin', 'review_scores_communication',\n",
       "       'review_scores_location', 'review_scores_value', 'requires_license',\n",
       "       'license', 'jurisdiction_names', 'instant_bookable',\n",
       "       'cancellation_policy', 'require_guest_profile_picture',\n",
       "       'require_guest_phone_verification', 'calculated_host_listings_count',\n",
       "       'reviews_per_month'],\n",
       "      dtype='object')"
      ]
     },
     "execution_count": 3,
     "metadata": {},
     "output_type": "execute_result"
    }
   ],
   "source": [
    "boston_df.columns"
   ]
  },
  {
   "cell_type": "code",
   "execution_count": 4,
   "metadata": {},
   "outputs": [
    {
     "data": {
      "text/plain": [
       "(3585, 95)"
      ]
     },
     "execution_count": 4,
     "metadata": {},
     "output_type": "execute_result"
    }
   ],
   "source": [
    "boston_df.shape"
   ]
  },
  {
   "cell_type": "markdown",
   "metadata": {},
   "source": [
    "So our dataset has total 3585 samples and 95 features. There are quite a few features."
   ]
  },
  {
   "cell_type": "markdown",
   "metadata": {},
   "source": []
  },
  {
   "cell_type": "markdown",
   "metadata": {},
   "source": [
    "# Questions"
   ]
  },
  {
   "cell_type": "markdown",
   "metadata": {},
   "source": [
    "**Question 1** : How much does location contribute to the popularity of listings?\n",
    "\n",
    "There might be several factors related to locations that make certain listings popular over others :\n",
    "1. street, city, state of listing\n",
    "2. transportation\n",
    "3. neighbourhood\n",
    "4. location of the host\n",
    "\n",
    "First we will select the columns related to location informations only and then look at them one by one."
   ]
  },
  {
   "cell_type": "code",
   "execution_count": 5,
   "metadata": {},
   "outputs": [],
   "source": [
    "boston_location_df = boston_df[['transit', 'host_location', 'host_neighbourhood', 'street',\n",
    "                                'neighbourhood', 'neighbourhood_cleansed', 'zipcode', 'calculated_host_listings_count',\n",
    "                                'neighbourhood_group_cleansed', 'city', 'state', 'smart_location',\n",
    "                                'latitude', 'longitude', 'is_location_exact', 'review_scores_location']]"
   ]
  },
  {
   "cell_type": "markdown",
   "metadata": {},
   "source": [
    "First check how many of these columns have **NULL** values."
   ]
  },
  {
   "cell_type": "code",
   "execution_count": 6,
   "metadata": {},
   "outputs": [
    {
     "data": {
      "text/plain": [
       "street                               0\n",
       "neighbourhood_cleansed               0\n",
       "calculated_host_listings_count       0\n",
       "state                                0\n",
       "smart_location                       0\n",
       "latitude                             0\n",
       "longitude                            0\n",
       "is_location_exact                    0\n",
       "city                                 2\n",
       "host_location                       11\n",
       "zipcode                             38\n",
       "host_neighbourhood                 339\n",
       "neighbourhood                      543\n",
       "review_scores_location             822\n",
       "transit                           1290\n",
       "neighbourhood_group_cleansed      3585\n",
       "dtype: int64"
      ]
     },
     "execution_count": 6,
     "metadata": {},
     "output_type": "execute_result"
    }
   ],
   "source": [
    "boston_location_df.isnull().sum().sort_values()"
   ]
  },
  {
   "cell_type": "markdown",
   "metadata": {},
   "source": [
    "The **'neighbourhood_group_cleansed'** column has all NULL values. Let's drop it."
   ]
  },
  {
   "cell_type": "code",
   "execution_count": 7,
   "metadata": {},
   "outputs": [
    {
     "name": "stderr",
     "output_type": "stream",
     "text": [
      "/home/nabanita/anaconda3/envs/my_env_py3.7.4/lib/python3.7/site-packages/pandas/core/frame.py:4117: SettingWithCopyWarning: \n",
      "A value is trying to be set on a copy of a slice from a DataFrame\n",
      "\n",
      "See the caveats in the documentation: http://pandas.pydata.org/pandas-docs/stable/user_guide/indexing.html#returning-a-view-versus-a-copy\n",
      "  errors=errors,\n"
     ]
    }
   ],
   "source": [
    "boston_location_df.drop('neighbourhood_group_cleansed', axis=1, inplace=True)"
   ]
  },
  {
   "cell_type": "markdown",
   "metadata": {},
   "source": [
    "Let's start with the neighbourhood columns."
   ]
  },
  {
   "cell_type": "code",
   "execution_count": 8,
   "metadata": {},
   "outputs": [
    {
     "data": {
      "text/plain": [
       "Jamaica Plain              343\n",
       "South End                  326\n",
       "Back Bay                   302\n",
       "Fenway                     290\n",
       "Dorchester                 269\n",
       "Allston                    260\n",
       "Beacon Hill                194\n",
       "Brighton                   185\n",
       "South Boston               174\n",
       "Downtown                   172\n",
       "East Boston                150\n",
       "Roxbury                    144\n",
       "North End                  143\n",
       "Mission Hill               124\n",
       "Charlestown                111\n",
       "South Boston Waterfront     83\n",
       "Chinatown                   71\n",
       "Roslindale                  56\n",
       "West End                    49\n",
       "West Roxbury                46\n",
       "Hyde Park                   31\n",
       "Mattapan                    24\n",
       "Bay Village                 24\n",
       "Longwood Medical Area        9\n",
       "Leather District             5\n",
       "Name: neighbourhood_cleansed, dtype: int64"
      ]
     },
     "execution_count": 8,
     "metadata": {},
     "output_type": "execute_result"
    }
   ],
   "source": [
    "boston_location_df['neighbourhood_cleansed'].value_counts()"
   ]
  },
  {
   "cell_type": "code",
   "execution_count": 9,
   "metadata": {},
   "outputs": [
    {
     "data": {
      "text/plain": [
       "Allston-Brighton      364\n",
       "Jamaica Plain         314\n",
       "South End             298\n",
       "Back Bay              291\n",
       "Fenway/Kenmore        249\n",
       "South Boston          216\n",
       "Dorchester            195\n",
       "Beacon Hill           174\n",
       "North End             125\n",
       "East Boston           117\n",
       "Roxbury               116\n",
       "Mission Hill          103\n",
       "Charlestown            79\n",
       "Chinatown              78\n",
       "West End               68\n",
       "Roslindale             50\n",
       "West Roxbury           35\n",
       "Theater District       33\n",
       "Downtown Crossing      26\n",
       "Hyde Park              25\n",
       "Mattapan               20\n",
       "Financial District     13\n",
       "Somerville             13\n",
       "Brookline               8\n",
       "Leather District        8\n",
       "Downtown                8\n",
       "Cambridge               7\n",
       "Chestnut Hill           4\n",
       "Government Center       3\n",
       "Harvard Square          2\n",
       "Name: neighbourhood, dtype: int64"
      ]
     },
     "execution_count": 9,
     "metadata": {},
     "output_type": "execute_result"
    }
   ],
   "source": [
    "boston_location_df['neighbourhood'].value_counts()"
   ]
  },
  {
   "cell_type": "markdown",
   "metadata": {},
   "source": [
    "They look quite similar. To get a clearer idea, let's compare elementwise."
   ]
  },
  {
   "cell_type": "code",
   "execution_count": 10,
   "metadata": {},
   "outputs": [
    {
     "data": {
      "text/plain": [
       "True     2123\n",
       "False    1462\n",
       "dtype: int64"
      ]
     },
     "execution_count": 10,
     "metadata": {},
     "output_type": "execute_result"
    }
   ],
   "source": [
    "boston_location_df['neighbourhood_cleansed'].eq(boston_location_df['neighbourhood']).value_counts()"
   ]
  },
  {
   "cell_type": "markdown",
   "metadata": {},
   "source": [
    "So the two columns have 2123 values in common. But there are also 1462 entries which donot agree. \n",
    "Let's try to understand possible sources of dissimilarity."
   ]
  },
  {
   "cell_type": "markdown",
   "metadata": {},
   "source": [
    "The 'neighborhood' column has total 543 NULL values whereas 'neighbourhood_cleansed' has no NULL value. This is one source of dissimilarity."
   ]
  },
  {
   "cell_type": "code",
   "execution_count": 11,
   "metadata": {},
   "outputs": [
    {
     "data": {
      "text/plain": [
       "0        True\n",
       "1        True\n",
       "2        True\n",
       "3       False\n",
       "4        True\n",
       "        ...  \n",
       "3580    False\n",
       "3581    False\n",
       "3582    False\n",
       "3583    False\n",
       "3584    False\n",
       "Length: 3585, dtype: bool"
      ]
     },
     "execution_count": 11,
     "metadata": {},
     "output_type": "execute_result"
    }
   ],
   "source": [
    "boston_location_df['neighbourhood_cleansed'].eq(boston_location_df['neighbourhood'])"
   ]
  },
  {
   "cell_type": "code",
   "execution_count": 12,
   "metadata": {},
   "outputs": [
    {
     "data": {
      "text/html": [
       "<div>\n",
       "<style scoped>\n",
       "    .dataframe tbody tr th:only-of-type {\n",
       "        vertical-align: middle;\n",
       "    }\n",
       "\n",
       "    .dataframe tbody tr th {\n",
       "        vertical-align: top;\n",
       "    }\n",
       "\n",
       "    .dataframe thead th {\n",
       "        text-align: right;\n",
       "    }\n",
       "</style>\n",
       "<table border=\"1\" class=\"dataframe\">\n",
       "  <thead>\n",
       "    <tr style=\"text-align: right;\">\n",
       "      <th></th>\n",
       "      <th>neighbourhood</th>\n",
       "      <th>neighbourhood_cleansed</th>\n",
       "    </tr>\n",
       "  </thead>\n",
       "  <tbody>\n",
       "    <tr>\n",
       "      <th>3575</th>\n",
       "      <td>Somerville</td>\n",
       "      <td>Charlestown</td>\n",
       "    </tr>\n",
       "    <tr>\n",
       "      <th>3576</th>\n",
       "      <td>Cambridge</td>\n",
       "      <td>Allston</td>\n",
       "    </tr>\n",
       "    <tr>\n",
       "      <th>3577</th>\n",
       "      <td>Brookline</td>\n",
       "      <td>Allston</td>\n",
       "    </tr>\n",
       "    <tr>\n",
       "      <th>3578</th>\n",
       "      <td>NaN</td>\n",
       "      <td>Allston</td>\n",
       "    </tr>\n",
       "    <tr>\n",
       "      <th>3579</th>\n",
       "      <td>Brookline</td>\n",
       "      <td>Allston</td>\n",
       "    </tr>\n",
       "    <tr>\n",
       "      <th>3580</th>\n",
       "      <td>Somerville</td>\n",
       "      <td>Charlestown</td>\n",
       "    </tr>\n",
       "    <tr>\n",
       "      <th>3581</th>\n",
       "      <td>NaN</td>\n",
       "      <td>Allston</td>\n",
       "    </tr>\n",
       "    <tr>\n",
       "      <th>3582</th>\n",
       "      <td>NaN</td>\n",
       "      <td>Charlestown</td>\n",
       "    </tr>\n",
       "    <tr>\n",
       "      <th>3583</th>\n",
       "      <td>Somerville</td>\n",
       "      <td>Charlestown</td>\n",
       "    </tr>\n",
       "    <tr>\n",
       "      <th>3584</th>\n",
       "      <td>Somerville</td>\n",
       "      <td>Charlestown</td>\n",
       "    </tr>\n",
       "  </tbody>\n",
       "</table>\n",
       "</div>"
      ],
      "text/plain": [
       "     neighbourhood neighbourhood_cleansed\n",
       "3575    Somerville            Charlestown\n",
       "3576     Cambridge                Allston\n",
       "3577     Brookline                Allston\n",
       "3578           NaN                Allston\n",
       "3579     Brookline                Allston\n",
       "3580    Somerville            Charlestown\n",
       "3581           NaN                Allston\n",
       "3582           NaN            Charlestown\n",
       "3583    Somerville            Charlestown\n",
       "3584    Somerville            Charlestown"
      ]
     },
     "execution_count": 12,
     "metadata": {},
     "output_type": "execute_result"
    }
   ],
   "source": [
    "boston_location_df[['neighbourhood', 'neighbourhood_cleansed']].tail(10)"
   ]
  },
  {
   "cell_type": "markdown",
   "metadata": {},
   "source": [
    "Another point of dissimilarity arises when entries are actually different in the two columns. But interesting thing to note here is that even they are different, they represent two adjacent neighborhoods (google search!). That means we can proceed with one of them and drop the other one. Let's keep the **'neighbourhood_cleansed'** column since it has no NULL value and drop the other one."
   ]
  },
  {
   "cell_type": "code",
   "execution_count": 13,
   "metadata": {},
   "outputs": [],
   "source": [
    "boston_location_df.drop('neighbourhood', axis=1, inplace=True)"
   ]
  },
  {
   "cell_type": "code",
   "execution_count": 14,
   "metadata": {},
   "outputs": [
    {
     "data": {
      "text/html": [
       "<div>\n",
       "<style scoped>\n",
       "    .dataframe tbody tr th:only-of-type {\n",
       "        vertical-align: middle;\n",
       "    }\n",
       "\n",
       "    .dataframe tbody tr th {\n",
       "        vertical-align: top;\n",
       "    }\n",
       "\n",
       "    .dataframe thead th {\n",
       "        text-align: right;\n",
       "    }\n",
       "</style>\n",
       "<table border=\"1\" class=\"dataframe\">\n",
       "  <thead>\n",
       "    <tr style=\"text-align: right;\">\n",
       "      <th></th>\n",
       "      <th>host_neighbourhood</th>\n",
       "      <th>host_location</th>\n",
       "    </tr>\n",
       "  </thead>\n",
       "  <tbody>\n",
       "    <tr>\n",
       "      <th>0</th>\n",
       "      <td>Roslindale</td>\n",
       "      <td>Boston, Massachusetts, United States</td>\n",
       "    </tr>\n",
       "    <tr>\n",
       "      <th>1</th>\n",
       "      <td>Roslindale</td>\n",
       "      <td>Boston, Massachusetts, United States</td>\n",
       "    </tr>\n",
       "    <tr>\n",
       "      <th>2</th>\n",
       "      <td>Roslindale</td>\n",
       "      <td>Boston, Massachusetts, United States</td>\n",
       "    </tr>\n",
       "    <tr>\n",
       "      <th>3</th>\n",
       "      <td>NaN</td>\n",
       "      <td>Boston, Massachusetts, United States</td>\n",
       "    </tr>\n",
       "    <tr>\n",
       "      <th>4</th>\n",
       "      <td>Roslindale</td>\n",
       "      <td>Boston, Massachusetts, United States</td>\n",
       "    </tr>\n",
       "    <tr>\n",
       "      <th>5</th>\n",
       "      <td>Roslindale</td>\n",
       "      <td>Boston, Massachusetts, United States</td>\n",
       "    </tr>\n",
       "    <tr>\n",
       "      <th>6</th>\n",
       "      <td>Roslindale</td>\n",
       "      <td>Milton, Massachusetts, United States</td>\n",
       "    </tr>\n",
       "    <tr>\n",
       "      <th>7</th>\n",
       "      <td>Roslindale</td>\n",
       "      <td>Boston, Massachusetts, United States</td>\n",
       "    </tr>\n",
       "    <tr>\n",
       "      <th>8</th>\n",
       "      <td>Roslindale</td>\n",
       "      <td>Boston, Massachusetts, United States</td>\n",
       "    </tr>\n",
       "    <tr>\n",
       "      <th>9</th>\n",
       "      <td>Roslindale</td>\n",
       "      <td>Boston, Massachusetts, United States</td>\n",
       "    </tr>\n",
       "  </tbody>\n",
       "</table>\n",
       "</div>"
      ],
      "text/plain": [
       "  host_neighbourhood                         host_location\n",
       "0         Roslindale  Boston, Massachusetts, United States\n",
       "1         Roslindale  Boston, Massachusetts, United States\n",
       "2         Roslindale  Boston, Massachusetts, United States\n",
       "3                NaN  Boston, Massachusetts, United States\n",
       "4         Roslindale  Boston, Massachusetts, United States\n",
       "5         Roslindale  Boston, Massachusetts, United States\n",
       "6         Roslindale  Milton, Massachusetts, United States\n",
       "7         Roslindale  Boston, Massachusetts, United States\n",
       "8         Roslindale  Boston, Massachusetts, United States\n",
       "9         Roslindale  Boston, Massachusetts, United States"
      ]
     },
     "execution_count": 14,
     "metadata": {},
     "output_type": "execute_result"
    }
   ],
   "source": [
    "boston_location_df[['host_neighbourhood', 'host_location']].head(10)"
   ]
  },
  {
   "cell_type": "markdown",
   "metadata": {},
   "source": [
    "Both the columns have the same information. One contains only neighborhood names and the other has informations about host's city, state and country. We can use host's location information to determine if the host is local or not. Knowing either of these should be suffice for that purpose. We have already seen that 'host_location' has fewer NULL values as compared to 'host_neighbouhood'. Let's look at these columns a bit closer."
   ]
  },
  {
   "cell_type": "code",
   "execution_count": 15,
   "metadata": {},
   "outputs": [
    {
     "data": {
      "text/plain": [
       "array(['Boston, Massachusetts, United States',\n",
       "       'Milton, Massachusetts, United States',\n",
       "       'Roslindale (part of Boston), MA',\n",
       "       'Boston Massachusetts, Roslindale Neighborhood', 'US',\n",
       "       'Upton, Massachusetts, United States',\n",
       "       'Cambridge, Massachusetts, United States',\n",
       "       'Belo Horizonte, State of Minas Gerais, Brazil',\n",
       "       'Brookline, Massachusetts, United States',\n",
       "       'St. Johnsbury, Vermont, United States',\n",
       "       'Massachusetts, United States', 'Miami, Florida, United States',\n",
       "       'Seattle, Washington, United States',\n",
       "       'San Isidro, Buenos Aires Province, Argentina',\n",
       "       'Chicago, Illinois, United States',\n",
       "       'Hingham, Massachusetts, United States',\n",
       "       'Atlanta, Georgia, United States',\n",
       "       \"Avignon, Provence-Alpes-Côte d'Azur, France\",\n",
       "       'San Miguel de Allende, Guanajuato, Mexico',\n",
       "       'Jaffrey, New Hampshire, United States', nan,\n",
       "       'Washington, District of Columbia, United States',\n",
       "       'Manchester-by-the-Sea, Massachusetts, United States',\n",
       "       'Santos, State of São Paulo, Brazil',\n",
       "       'Rio de Janeiro, Rio de Janeiro, Brazil',\n",
       "       'Reno, Nevada, United States',\n",
       "       'Marblehead, Massachusetts, United States',\n",
       "       'Newburyport, Massachusetts, United States',\n",
       "       'Ao-Men, Ilhas, Macau', 'New York, New York, United States',\n",
       "       'Westerly, Rhode Island, United States',\n",
       "       'Durham, North Carolina, United States',\n",
       "       'Lynnfield, Massachusetts, United States',\n",
       "       'Paris, Île-de-France, France', 'Portland, Oregon, United States',\n",
       "       'Montreal, Quebec, Canada', 'IT',\n",
       "       'Spokane, Washington, United States',\n",
       "       'Tallahassee, Florida, United States',\n",
       "       'Hanover, New Hampshire, United States',\n",
       "       'Sydney, New South Wales, Australia',\n",
       "       'Manchester, New Hampshire, United States', 'CA',\n",
       "       'Cornellà de Llobregat, Catalunya, Spain',\n",
       "       'Medford, Massachusetts, United States',\n",
       "       'Bolton, Massachusetts, United States',\n",
       "       'Somerville, Massachusetts, United States',\n",
       "       'Holden, Massachusetts, United States', 'Massachusetts',\n",
       "       'Belmont, Massachusetts, United States',\n",
       "       'Pittsburgh, Pennsylvania, United States',\n",
       "       'North Andover, Massachusetts, United States',\n",
       "       'Malden, Massachusetts, United States',\n",
       "       'São Caetano do Sul, São Paulo, Brazil',\n",
       "       'Stamford, Connecticut, United States',\n",
       "       'Corsicana, Texas, United States', 'Toronto, Ontario, Canada',\n",
       "       'Cork, Cork, Ireland',\n",
       "       'Middlesex County, Massachusetts, United States',\n",
       "       'Marshfield, Massachusetts, United States',\n",
       "       'Charleston, South Carolina, United States', 'Tel-Aviv, Israel ',\n",
       "       'USA', 'United States', 'Munich, Bavaria, Germany',\n",
       "       'Gun Barrel City, Texas, United States',\n",
       "       'Lexington, Massachusetts, United States',\n",
       "       'San Diego, California, United States',\n",
       "       'Cleveland, Ohio, United States',\n",
       "       'Newport, Rhode Island, United States',\n",
       "       'Cape Coral, Florida, United States',\n",
       "       'Old Lyme, Connecticut, United States',\n",
       "       'Sidney, Ohio, United States',\n",
       "       'Berlin, Massachusetts, United States',\n",
       "       'North Kingstown, Rhode Island, United States', 'U.S. ',\n",
       "       'Houston, Texas, United States', 'York, Maine, United States',\n",
       "       'Estero, Florida, United States',\n",
       "       'Somerset, Kentucky, United States',\n",
       "       'Northborough, Massachusetts, United States',\n",
       "       'Buenos Aires, Argentina',\n",
       "       'Smithfield, Rhode Island, United States',\n",
       "       'Pound Ridge, New York, United States', 'New Delhi, Delhi, India',\n",
       "       'Quincy, Massachusetts, United States',\n",
       "       'Montevideo, Montevideo Department, Uruguay', 'Boston, Quincy',\n",
       "       'Massachusetts, USA', 'Livingston, New Jersey, United States',\n",
       "       'Peabody, Massachusetts, United States',\n",
       "       'Bogota, Bogota, Colombia', 'Keene, New Hampshire, United States',\n",
       "       'Easton, Massachusetts, United States',\n",
       "       'Honolulu, Hawaii, United States',\n",
       "       'Hillsborough Township, New Jersey, United States',\n",
       "       'Fort Benton, Montana, United States',\n",
       "       'Knoxville, Tennessee, United States',\n",
       "       'Istanbul, Istanbul, Turkey',\n",
       "       'Redwood City, California, United States',\n",
       "       'Framingham, Massachusetts, United States',\n",
       "       'Andover, Massachusetts, United States',\n",
       "       'Quito, Pichincha, Ecuador',\n",
       "       'Winchester, Massachusetts, United States',\n",
       "       'Fort Lauderdale, Florida, United States',\n",
       "       'Abington, Massachusetts, United States',\n",
       "       'Beverly, Massachusetts, United States',\n",
       "       'Braintree, Massachusetts, United States',\n",
       "       'Philadelphia, Pennsylvania, United States',\n",
       "       'Lansdale, Pennsylvania, United States',\n",
       "       'Bluffton, South Carolina, United States',\n",
       "       'Norwich, Vermont, United States',\n",
       "       'Webster, New York, United States',\n",
       "       'Newton, Massachusetts, United States',\n",
       "       'Woburn, Massachusetts, United States',\n",
       "       'Acton, Massachusetts, United States',\n",
       "       'Irvine, California, United States',\n",
       "       'Chatham, Massachusetts, United States',\n",
       "       'Los Angeles, California, United States',\n",
       "       'Gearhart, Oregon, United States', 'Taipei, Taiwan',\n",
       "       'Cohasset, Massachusetts, United States',\n",
       "       'Weston, Massachusetts, United States',\n",
       "       'San Francisco, California, United States', 'Boston and London',\n",
       "       'Tel Aviv, Israel', 'Hong Kong',\n",
       "       'Reading, Massachusetts, United States',\n",
       "       'Vienna, Virginia, United States', 'Topeka, Kansas, United States',\n",
       "       'Chongqing, Chongqing, China',\n",
       "       'Worcester, Massachusetts, United States',\n",
       "       'Mumbai, Maharashtra, India',\n",
       "       'Thompson, Connecticut, United States',\n",
       "       'Weymouth, Massachusetts, United States',\n",
       "       'Fairfield, Connecticut, United States', 'Singapore',\n",
       "       'Norwell, Massachusetts, United States',\n",
       "       'Schaumburg, Illinois, United States', 'Bangkok, Thailand',\n",
       "       'Watertown, Massachusetts, United States',\n",
       "       'Prosser, Washington, United States',\n",
       "       'Utrecht, Utrecht, Netherlands',\n",
       "       'Santa Cruz de la Sierra, Santa Cruz, Bolivia',\n",
       "       'Newport Beach, California, United States',\n",
       "       'Temecula, California, United States',\n",
       "       'Medellin, Antioquia, Colombia',\n",
       "       'Albuquerque, New Mexico, United States',\n",
       "       'Melrose, Massachusetts, United States', 'California', 'AW',\n",
       "       'Boston, From Jamaica ',\n",
       "       'Southborough, Massachusetts, United States',\n",
       "       'Revere, Massachusetts, United States',\n",
       "       'Waltham, Massachusetts, United States',\n",
       "       'Wareham, Massachusetts, United States',\n",
       "       'Anaheim, California, United States',\n",
       "       'Randolph, Massachusetts, United States',\n",
       "       'Santa Monica, California, United States',\n",
       "       'Jersey City, New Jersey, United States', 'PH',\n",
       "       'Providence, Rhode Island, United States', 'Boston and Lake Tahoe',\n",
       "       'Hillside, New Jersey, United States',\n",
       "       'Natick, Massachusetts, United States',\n",
       "       'Hillsboro Beach, Florida, United States',\n",
       "       'Alkmaar, Noord-Holland, Netherlands',\n",
       "       'Barcelona, Catalonia, Spain', 'Beijing, Beijing, China',\n",
       "       'Binghamton, New York, United States',\n",
       "       'Ho Chi Minh City, Ho Chi Minh, Vietnam',\n",
       "       'Allston part of Boston, by Cambridge', 'Beirut, Beirut, Lebanon',\n",
       "       'CN', 'Laurel, Maryland, United States',\n",
       "       'Bergen, Hordaland, Norway',\n",
       "       'Ashland, Massachusetts, United States'], dtype=object)"
      ]
     },
     "execution_count": 15,
     "metadata": {},
     "output_type": "execute_result"
    }
   ],
   "source": [
    "boston_location_df['host_location'].unique()"
   ]
  },
  {
   "cell_type": "code",
   "execution_count": 16,
   "metadata": {},
   "outputs": [
    {
     "data": {
      "text/plain": [
       "array(['Roslindale', nan, 'Jamaica Plain', 'Hyde Park', 'South Beach',\n",
       "       'Benton Park', 'Back Bay', 'Mission Hill', 'Cambridge',\n",
       "       'Fenway/Kenmore', 'Beacon Hill', 'West End', 'North End',\n",
       "       'Allston-Brighton', 'Upper East Side', 'Theater District',\n",
       "       'Leather District', 'Gay Village', 'Somerville', 'Chinatown',\n",
       "       'Santa Cruz', 'Central Business District', 'South Boston',\n",
       "       'Financial District', 'Medford', 'Downtown Crossing', 'Downtown',\n",
       "       'Roxbury', 'South End', 'Dorchester', 'Mattapan',\n",
       "       'Coolidge Corner', 'Los Altos Hills', 'Harvard Square',\n",
       "       'East Boston', 'Malden', 'Charlestown', 'Newton', 'Chelsea',\n",
       "       'Bernal Heights', 'Government Center', 'Sunnyvale', 'Brookline',\n",
       "       'Midtown East', 'East Harlem', 'West Roxbury', 'Chestnut Hill',\n",
       "       'South of Nevsky', 'Winthrop', 'Flatiron District', 'Belváros',\n",
       "       'Miami Beach', 'Coral Way', 'Mission District'], dtype=object)"
      ]
     },
     "execution_count": 16,
     "metadata": {},
     "output_type": "execute_result"
    }
   ],
   "source": [
    "boston_location_df['host_neighbourhood'].unique()"
   ]
  },
  {
   "cell_type": "markdown",
   "metadata": {},
   "source": [
    "'host_location' is much messier as compared to 'host_neighbourhood'. One can use either of these features to determine whether the host is local or not. A local host might be prefered over remote host due to several reasons, e.g. communication, availability, realiabilty and so on. Let's engineer a new feature **'host_local'** from the available informations.\n",
    "\n",
    "If we find the term 'boston' in host_location, we will mark the host as local. To avoid any case sensitivity, let's us first convert to all lower cases."
   ]
  },
  {
   "cell_type": "code",
   "execution_count": 17,
   "metadata": {},
   "outputs": [
    {
     "name": "stderr",
     "output_type": "stream",
     "text": [
      "/home/nabanita/anaconda3/envs/my_env_py3.7.4/lib/python3.7/site-packages/ipykernel_launcher.py:1: SettingWithCopyWarning: \n",
      "A value is trying to be set on a copy of a slice from a DataFrame.\n",
      "Try using .loc[row_indexer,col_indexer] = value instead\n",
      "\n",
      "See the caveats in the documentation: http://pandas.pydata.org/pandas-docs/stable/user_guide/indexing.html#returning-a-view-versus-a-copy\n",
      "  \"\"\"Entry point for launching an IPython kernel.\n"
     ]
    }
   ],
   "source": [
    "boston_location_df['host_location'] = boston_location_df['host_location'].apply(lambda x:str(x).lower())"
   ]
  },
  {
   "cell_type": "code",
   "execution_count": 18,
   "metadata": {},
   "outputs": [],
   "source": [
    "def identify_local_host(text) :\n",
    "    \n",
    "    if 'boston' in text:\n",
    "        return 1\n",
    "    else:\n",
    "        return 0"
   ]
  },
  {
   "cell_type": "code",
   "execution_count": 19,
   "metadata": {},
   "outputs": [
    {
     "name": "stderr",
     "output_type": "stream",
     "text": [
      "/home/nabanita/anaconda3/envs/my_env_py3.7.4/lib/python3.7/site-packages/ipykernel_launcher.py:1: SettingWithCopyWarning: \n",
      "A value is trying to be set on a copy of a slice from a DataFrame.\n",
      "Try using .loc[row_indexer,col_indexer] = value instead\n",
      "\n",
      "See the caveats in the documentation: http://pandas.pydata.org/pandas-docs/stable/user_guide/indexing.html#returning-a-view-versus-a-copy\n",
      "  \"\"\"Entry point for launching an IPython kernel.\n"
     ]
    }
   ],
   "source": [
    "boston_location_df['host_local'] = boston_location_df['host_location'].apply(identify_local_host)"
   ]
  },
  {
   "cell_type": "code",
   "execution_count": 20,
   "metadata": {},
   "outputs": [
    {
     "data": {
      "text/plain": [
       "1    2431\n",
       "0    1154\n",
       "Name: host_local, dtype: int64"
      ]
     },
     "execution_count": 20,
     "metadata": {},
     "output_type": "execute_result"
    }
   ],
   "source": [
    "boston_location_df['host_local'].value_counts()"
   ]
  },
  {
   "cell_type": "markdown",
   "metadata": {},
   "source": [
    "We can now drop the columns 'host_location' and 'host_neighbourhood' because we have encrypted them in our new feature 'host_local'."
   ]
  },
  {
   "cell_type": "code",
   "execution_count": 21,
   "metadata": {},
   "outputs": [],
   "source": [
    "boston_location_df.drop(['host_location', 'host_neighbourhood'], axis=1, inplace=True)"
   ]
  },
  {
   "cell_type": "code",
   "execution_count": 22,
   "metadata": {},
   "outputs": [
    {
     "data": {
      "text/html": [
       "<div>\n",
       "<style scoped>\n",
       "    .dataframe tbody tr th:only-of-type {\n",
       "        vertical-align: middle;\n",
       "    }\n",
       "\n",
       "    .dataframe tbody tr th {\n",
       "        vertical-align: top;\n",
       "    }\n",
       "\n",
       "    .dataframe thead th {\n",
       "        text-align: right;\n",
       "    }\n",
       "</style>\n",
       "<table border=\"1\" class=\"dataframe\">\n",
       "  <thead>\n",
       "    <tr style=\"text-align: right;\">\n",
       "      <th></th>\n",
       "      <th>street</th>\n",
       "      <th>state</th>\n",
       "      <th>city</th>\n",
       "      <th>smart_location</th>\n",
       "      <th>zipcode</th>\n",
       "    </tr>\n",
       "  </thead>\n",
       "  <tbody>\n",
       "    <tr>\n",
       "      <th>0</th>\n",
       "      <td>Birch Street, Boston, MA 02131, United States</td>\n",
       "      <td>MA</td>\n",
       "      <td>Boston</td>\n",
       "      <td>Boston, MA</td>\n",
       "      <td>02131</td>\n",
       "    </tr>\n",
       "    <tr>\n",
       "      <th>1</th>\n",
       "      <td>Pinehurst Street, Boston, MA 02131, United States</td>\n",
       "      <td>MA</td>\n",
       "      <td>Boston</td>\n",
       "      <td>Boston, MA</td>\n",
       "      <td>02131</td>\n",
       "    </tr>\n",
       "    <tr>\n",
       "      <th>2</th>\n",
       "      <td>Ardale St., Boston, MA 02131, United States</td>\n",
       "      <td>MA</td>\n",
       "      <td>Boston</td>\n",
       "      <td>Boston, MA</td>\n",
       "      <td>02131</td>\n",
       "    </tr>\n",
       "    <tr>\n",
       "      <th>3</th>\n",
       "      <td>Boston, MA, United States</td>\n",
       "      <td>MA</td>\n",
       "      <td>Boston</td>\n",
       "      <td>Boston, MA</td>\n",
       "      <td>NaN</td>\n",
       "    </tr>\n",
       "    <tr>\n",
       "      <th>4</th>\n",
       "      <td>Durnell Avenue, Boston, MA 02131, United States</td>\n",
       "      <td>MA</td>\n",
       "      <td>Boston</td>\n",
       "      <td>Boston, MA</td>\n",
       "      <td>02131</td>\n",
       "    </tr>\n",
       "    <tr>\n",
       "      <th>...</th>\n",
       "      <td>...</td>\n",
       "      <td>...</td>\n",
       "      <td>...</td>\n",
       "      <td>...</td>\n",
       "      <td>...</td>\n",
       "    </tr>\n",
       "    <tr>\n",
       "      <th>3580</th>\n",
       "      <td>Washington Street, Somerville, MA 02143, Unite...</td>\n",
       "      <td>MA</td>\n",
       "      <td>Somerville</td>\n",
       "      <td>Somerville, MA</td>\n",
       "      <td>02143</td>\n",
       "    </tr>\n",
       "    <tr>\n",
       "      <th>3581</th>\n",
       "      <td>Freeman Street, Brookline, MA 02446, United St...</td>\n",
       "      <td>MA</td>\n",
       "      <td>Brookline</td>\n",
       "      <td>Brookline, MA</td>\n",
       "      <td>02446</td>\n",
       "    </tr>\n",
       "    <tr>\n",
       "      <th>3582</th>\n",
       "      <td>Child Street, Cambridge, MA 02141, United States</td>\n",
       "      <td>MA</td>\n",
       "      <td>Cambridge</td>\n",
       "      <td>Cambridge, MA</td>\n",
       "      <td>02141</td>\n",
       "    </tr>\n",
       "    <tr>\n",
       "      <th>3583</th>\n",
       "      <td>George St Somerville, Somerville, MA 02145, Un...</td>\n",
       "      <td>MA</td>\n",
       "      <td>Somerville</td>\n",
       "      <td>Somerville, MA</td>\n",
       "      <td>02145</td>\n",
       "    </tr>\n",
       "    <tr>\n",
       "      <th>3584</th>\n",
       "      <td>Broadway, Somerville, MA 02145, United States</td>\n",
       "      <td>MA</td>\n",
       "      <td>Somerville</td>\n",
       "      <td>Somerville, MA</td>\n",
       "      <td>02145</td>\n",
       "    </tr>\n",
       "  </tbody>\n",
       "</table>\n",
       "<p>3585 rows × 5 columns</p>\n",
       "</div>"
      ],
      "text/plain": [
       "                                                 street state        city  \\\n",
       "0         Birch Street, Boston, MA 02131, United States    MA      Boston   \n",
       "1     Pinehurst Street, Boston, MA 02131, United States    MA      Boston   \n",
       "2           Ardale St., Boston, MA 02131, United States    MA      Boston   \n",
       "3                             Boston, MA, United States    MA      Boston   \n",
       "4       Durnell Avenue, Boston, MA 02131, United States    MA      Boston   \n",
       "...                                                 ...   ...         ...   \n",
       "3580  Washington Street, Somerville, MA 02143, Unite...    MA  Somerville   \n",
       "3581  Freeman Street, Brookline, MA 02446, United St...    MA   Brookline   \n",
       "3582   Child Street, Cambridge, MA 02141, United States    MA   Cambridge   \n",
       "3583  George St Somerville, Somerville, MA 02145, Un...    MA  Somerville   \n",
       "3584      Broadway, Somerville, MA 02145, United States    MA  Somerville   \n",
       "\n",
       "      smart_location zipcode  \n",
       "0         Boston, MA   02131  \n",
       "1         Boston, MA   02131  \n",
       "2         Boston, MA   02131  \n",
       "3         Boston, MA     NaN  \n",
       "4         Boston, MA   02131  \n",
       "...              ...     ...  \n",
       "3580  Somerville, MA   02143  \n",
       "3581   Brookline, MA   02446  \n",
       "3582   Cambridge, MA   02141  \n",
       "3583  Somerville, MA   02145  \n",
       "3584  Somerville, MA   02145  \n",
       "\n",
       "[3585 rows x 5 columns]"
      ]
     },
     "execution_count": 22,
     "metadata": {},
     "output_type": "execute_result"
    }
   ],
   "source": [
    "boston_location_df[['street', 'state', 'city', 'smart_location', 'zipcode']]"
   ]
  },
  {
   "cell_type": "markdown",
   "metadata": {},
   "source": [
    "So we find that the 'smart_location' column is basically made up of the columns 'city' and 'state' and carries no additional information. However, we have seen that the 'city' column has 2 missing values whereas 'smart_location' has none. We can use this to fill in NULL values in the 'city' column and then can drop 'smart_location'."
   ]
  },
  {
   "cell_type": "code",
   "execution_count": 23,
   "metadata": {},
   "outputs": [],
   "source": [
    "def fill_city_value(row):\n",
    "    \"\"\"\n",
    "    This function fills in the NULL values in one column with respect to the other column\n",
    "    \n",
    "    Parameters:\n",
    "       row : row of a dataframe\n",
    "       \n",
    "    Returns:\n",
    "       row : \n",
    "    \n",
    "    \"\"\"\n",
    "    \n",
    "    if pd.isna(row['city']) :\n",
    "        #row['city'] = row['smart_location'].split(\",\")[0]\n",
    "        return row['smart_location'].split(\",\")[0]\n",
    "    else :\n",
    "        return row['city']"
   ]
  },
  {
   "cell_type": "code",
   "execution_count": 24,
   "metadata": {},
   "outputs": [
    {
     "name": "stderr",
     "output_type": "stream",
     "text": [
      "/home/nabanita/anaconda3/envs/my_env_py3.7.4/lib/python3.7/site-packages/ipykernel_launcher.py:1: SettingWithCopyWarning: \n",
      "A value is trying to be set on a copy of a slice from a DataFrame.\n",
      "Try using .loc[row_indexer,col_indexer] = value instead\n",
      "\n",
      "See the caveats in the documentation: http://pandas.pydata.org/pandas-docs/stable/user_guide/indexing.html#returning-a-view-versus-a-copy\n",
      "  \"\"\"Entry point for launching an IPython kernel.\n"
     ]
    }
   ],
   "source": [
    "boston_location_df['city'] = boston_location_df.apply(fill_city_value, axis=1)"
   ]
  },
  {
   "cell_type": "code",
   "execution_count": 25,
   "metadata": {},
   "outputs": [
    {
     "data": {
      "text/plain": [
       "0"
      ]
     },
     "execution_count": 25,
     "metadata": {},
     "output_type": "execute_result"
    }
   ],
   "source": [
    "boston_location_df['city'].isnull().sum()"
   ]
  },
  {
   "cell_type": "code",
   "execution_count": 26,
   "metadata": {},
   "outputs": [
    {
     "data": {
      "text/plain": [
       "array(['MA'], dtype=object)"
      ]
     },
     "execution_count": 26,
     "metadata": {},
     "output_type": "execute_result"
    }
   ],
   "source": [
    "boston_location_df['state'].unique()"
   ]
  },
  {
   "cell_type": "markdown",
   "metadata": {},
   "source": [
    "Also the 'state' column has only one value. Let's also drop this one."
   ]
  },
  {
   "cell_type": "code",
   "execution_count": 27,
   "metadata": {},
   "outputs": [],
   "source": [
    "boston_location_df.drop(['state', 'smart_location'], axis=1, inplace=True)"
   ]
  },
  {
   "cell_type": "markdown",
   "metadata": {},
   "source": [
    "On the other hand although the 'street' column has the same informations about 'city', 'state', 'zipcode' and 'country', it also has an added information about the street name. But that is just a duplicate information of 'zipcode'. So we go ahead and drop the 'street' column."
   ]
  },
  {
   "cell_type": "code",
   "execution_count": 28,
   "metadata": {},
   "outputs": [],
   "source": [
    "boston_location_df.drop('street', axis=1, inplace=True)"
   ]
  },
  {
   "cell_type": "code",
   "execution_count": 29,
   "metadata": {},
   "outputs": [
    {
     "data": {
      "text/plain": [
       "Index(['transit', 'neighbourhood_cleansed', 'zipcode',\n",
       "       'calculated_host_listings_count', 'city', 'latitude', 'longitude',\n",
       "       'is_location_exact', 'review_scores_location', 'host_local'],\n",
       "      dtype='object')"
      ]
     },
     "execution_count": 29,
     "metadata": {},
     "output_type": "execute_result"
    }
   ],
   "source": [
    "boston_location_df.columns"
   ]
  },
  {
   "cell_type": "code",
   "execution_count": 30,
   "metadata": {},
   "outputs": [
    {
     "data": {
      "text/plain": [
       "array(['Boston', 'Roslindale', 'Roslindale, Boston', 'Jamaica Plain',\n",
       "       'Brookline', 'Jamaica Plain, Boston', 'Jamaica Plain (Boston)',\n",
       "       'Roxbury Crossing', 'Jamaica Plain ', 'Jamaica Plain, MA',\n",
       "       'Boston (Jamaica Plain)', 'Jamaica plain ', 'ROXBURY CROSSING',\n",
       "       'Mission Hill, Boston', 'boston', '波士顿',\n",
       "       'Boston, Massachusetts, US', 'South End, Boston', 'Cambridge',\n",
       "       'East Boston', 'east Boston ', 'Charlestown',\n",
       "       'Boston (Charlestown)', 'Somerville', 'Watertown', 'Brighton',\n",
       "       'Brighton ', 'Boston ', 'MA', 'West Roxbury', 'Newton',\n",
       "       'Hyde Park', 'Mattapan', 'Milton', 'Dorchester',\n",
       "       'dorchester, boston ', 'South Boston', 'Allston', 'ALLSTON'],\n",
       "      dtype=object)"
      ]
     },
     "execution_count": 30,
     "metadata": {},
     "output_type": "execute_result"
    }
   ],
   "source": [
    "boston_location_df['city'].unique()"
   ]
  },
  {
   "cell_type": "markdown",
   "metadata": {},
   "source": [
    "The 'city' column needs to be cleaned. First, let's convert to all lower cases and get rid of extra spaces."
   ]
  },
  {
   "cell_type": "code",
   "execution_count": 31,
   "metadata": {},
   "outputs": [
    {
     "name": "stderr",
     "output_type": "stream",
     "text": [
      "/home/nabanita/anaconda3/envs/my_env_py3.7.4/lib/python3.7/site-packages/ipykernel_launcher.py:1: SettingWithCopyWarning: \n",
      "A value is trying to be set on a copy of a slice from a DataFrame.\n",
      "Try using .loc[row_indexer,col_indexer] = value instead\n",
      "\n",
      "See the caveats in the documentation: http://pandas.pydata.org/pandas-docs/stable/user_guide/indexing.html#returning-a-view-versus-a-copy\n",
      "  \"\"\"Entry point for launching an IPython kernel.\n"
     ]
    }
   ],
   "source": [
    "boston_location_df['city'] = boston_location_df['city'].apply(lambda x : x.lower().strip())"
   ]
  },
  {
   "cell_type": "code",
   "execution_count": 32,
   "metadata": {},
   "outputs": [
    {
     "data": {
      "text/plain": [
       "array(['boston', 'roslindale', 'roslindale, boston', 'jamaica plain',\n",
       "       'brookline', 'jamaica plain, boston', 'jamaica plain (boston)',\n",
       "       'roxbury crossing', 'jamaica plain, ma', 'boston (jamaica plain)',\n",
       "       'mission hill, boston', '波士顿', 'boston, massachusetts, us',\n",
       "       'south end, boston', 'cambridge', 'east boston', 'charlestown',\n",
       "       'boston (charlestown)', 'somerville', 'watertown', 'brighton',\n",
       "       'ma', 'west roxbury', 'newton', 'hyde park', 'mattapan', 'milton',\n",
       "       'dorchester', 'dorchester, boston', 'south boston', 'allston'],\n",
       "      dtype=object)"
      ]
     },
     "execution_count": 32,
     "metadata": {},
     "output_type": "execute_result"
    }
   ],
   "source": [
    "boston_location_df['city'].unique()"
   ]
  },
  {
   "cell_type": "markdown",
   "metadata": {},
   "source": [
    "Some of the entries have neighbouhood name associated with this. Let's first replace all entries with 'boston' in it with only 'boston'.  "
   ]
  },
  {
   "cell_type": "code",
   "execution_count": 33,
   "metadata": {},
   "outputs": [],
   "source": [
    "def my_func(value) :\n",
    "    \n",
    "    neighbourhood_list = ['roslindale', 'allston', 'jamaica plain', 'east boston', 'charlestown','south boston',\n",
    "                           'dorchester', 'hyde park', 'roxbury crossing', 'west roxbury', 'mattapan', 'jamaica plain, ma']\n",
    "    \n",
    "    if (('boston' in value) or ('(boston)' in value)) :\n",
    "        return 'boston'\n",
    "    elif value in neighbourhood_list:\n",
    "        return 'boston'\n",
    "    else :\n",
    "        return value"
   ]
  },
  {
   "cell_type": "code",
   "execution_count": 34,
   "metadata": {},
   "outputs": [
    {
     "name": "stderr",
     "output_type": "stream",
     "text": [
      "/home/nabanita/anaconda3/envs/my_env_py3.7.4/lib/python3.7/site-packages/ipykernel_launcher.py:1: SettingWithCopyWarning: \n",
      "A value is trying to be set on a copy of a slice from a DataFrame.\n",
      "Try using .loc[row_indexer,col_indexer] = value instead\n",
      "\n",
      "See the caveats in the documentation: http://pandas.pydata.org/pandas-docs/stable/user_guide/indexing.html#returning-a-view-versus-a-copy\n",
      "  \"\"\"Entry point for launching an IPython kernel.\n"
     ]
    }
   ],
   "source": [
    "boston_location_df['city'] = boston_location_df['city'].apply(my_func)"
   ]
  },
  {
   "cell_type": "code",
   "execution_count": 35,
   "metadata": {},
   "outputs": [
    {
     "data": {
      "text/plain": [
       "array(['boston', 'brookline', '波士顿', 'cambridge', 'somerville',\n",
       "       'watertown', 'brighton', 'ma', 'newton', 'milton'], dtype=object)"
      ]
     },
     "execution_count": 35,
     "metadata": {},
     "output_type": "execute_result"
    }
   ],
   "source": [
    "boston_location_df['city'].unique()"
   ]
  },
  {
   "cell_type": "code",
   "execution_count": 36,
   "metadata": {},
   "outputs": [
    {
     "data": {
      "text/plain": [
       "boston        3510\n",
       "somerville      19\n",
       "brookline       18\n",
       "brighton        16\n",
       "cambridge       16\n",
       "ma               2\n",
       "milton           1\n",
       "watertown        1\n",
       "newton           1\n",
       "波士顿              1\n",
       "Name: city, dtype: int64"
      ]
     },
     "execution_count": 36,
     "metadata": {},
     "output_type": "execute_result"
    }
   ],
   "source": [
    "boston_location_df['city'].value_counts()"
   ]
  },
  {
   "cell_type": "markdown",
   "metadata": {},
   "source": [
    "Since we are analysing the data of Boston city only, let's consider only the rows corrsponding to Boston and then drop the 'city' column."
   ]
  },
  {
   "cell_type": "code",
   "execution_count": 37,
   "metadata": {},
   "outputs": [
    {
     "data": {
      "text/plain": [
       "(3510, 10)"
      ]
     },
     "execution_count": 37,
     "metadata": {},
     "output_type": "execute_result"
    }
   ],
   "source": [
    "boston_location_df = boston_location_df[boston_location_df['city']=='boston']\n",
    "boston_location_df.shape"
   ]
  },
  {
   "cell_type": "code",
   "execution_count": 38,
   "metadata": {},
   "outputs": [],
   "source": [
    "boston_location_df.drop('city', axis=1, inplace=True)"
   ]
  },
  {
   "cell_type": "markdown",
   "metadata": {},
   "source": [
    "Let's now look at the first few entries in the 'transit' column."
   ]
  },
  {
   "cell_type": "code",
   "execution_count": 39,
   "metadata": {},
   "outputs": [
    {
     "name": "stdout",
     "output_type": "stream",
     "text": [
      "The bus stop is 2 blocks away, and frequent. Bus is about a 10 minute ride to the Orange line, forest hills. The commuter rail into down town is a 6 minute walk from our home.  Walking is pleasant and restaurants, shops and grocery store are all a 6 minute walk away.\n",
      "\n",
      "\n",
      "Plenty of safe street parking. Bus stops a few hundred feet from home. Buses 35, 36, or 37 will take you to the Forest Hills subway station is approximately 10 minutes. The buses are frequent during the week, less frequent during the weekend. However, many more buses leave Roslindale Sq., which is just 5 minutes away. Commuter rail is also down the road: more expensive but will take you downtown (Copley and South Station) in less than 20 minutes. Does not run on Sundays. The station is Roslindale Village on the Needham Heights line.\n",
      "\n",
      "\n",
      "PUBLIC TRANSPORTATION: From the house, quick public transportation to Forest Hills station (Orange Line and Commuter Rail) is via two nearby MBTA bus lines. The #38 bus stops one-half block away, and takes you past the Faulkner, then to Jamaica Plain and Forest Hills.  The #51 bus stops one block away, and goes a more direct route to Forest Hills. (The bus also goes to Cleveland Circle in Brookline.) Between the two bus lines, there is a bus that stops here every 15 minutes or so on weekdays; but no service on Sunday. ALSO, the apartment is just 1/2 mile walk to the Roslindale Village MBTA commuter rail stop, Needham Line. The train takes you to Ruggles Station at Northeastern Univ., to Back Bay station and to South Station in downtown Boston, in about 15 minutes time.  There are more city busses, running 7 days a week, from this MBTA rail station. You can also pick up ZIP Cars there.  GETTING HERE FROM LOGAN AIRPORT: By public transportation: You take the free shuttle bus at the airpo\n",
      "\n",
      "\n",
      "There are buses that stop right in front of the house and down the street. We are a convenient bus ride away from the forest hills MBTA stop which is the subway system in Boston. There's free street parking all around the house should you have a car.\n",
      "\n",
      "\n",
      "From Logan Airport  and South Station you have 3 options to get to my home: 1. Take the airport shuttle to the MBTA. (If you're at South Station, the MBTA is right at the bus station)  Take the MBTA subway to the \"Orange line\" train stop at Forest Hills station (it involves a switch that doesn't cost money).  From there, go to the Washington Street side of the station (not the Hyde Park Avenue side) and get bus #35, 36 or 37.  Get off at the Belgrade Avenue & Walworth Street stop (by 165 Belgrade Avenue).  My home is a 3-minute walk from there.   The MBTA website has a tab \"Rider Tools\" which will give you excellent, detailed routes and times to get anywhere in the city.   2. Take a cab - which usually $35 to 40 from Logan and much less from South Station, unless there is terrible traffic.  3. Or you could follow step #1 to Forest Hills Station, then take a cab from there (they are lined up) to my home (about $5-7). 4. The Silver Line is also an option - you can get their schedule on t\n",
      "\n",
      "\n"
     ]
    }
   ],
   "source": [
    "for text in boston_location_df['transit'].values[:5]:\n",
    "    print(text)\n",
    "    print('\\n')"
   ]
  },
  {
   "cell_type": "markdown",
   "metadata": {},
   "source": [
    "Although this column has important informations regarding transportations available at the listing place, contents are very messy and require a lot of processing in order to get meaningful information out of it. We will just drop it."
   ]
  },
  {
   "cell_type": "code",
   "execution_count": 40,
   "metadata": {},
   "outputs": [],
   "source": [
    "boston_location_df.drop('transit', axis=1, inplace=True)"
   ]
  },
  {
   "cell_type": "code",
   "execution_count": 41,
   "metadata": {},
   "outputs": [
    {
     "data": {
      "text/plain": [
       "784"
      ]
     },
     "execution_count": 41,
     "metadata": {},
     "output_type": "execute_result"
    }
   ],
   "source": [
    "boston_location_df['review_scores_location'].isnull().sum()"
   ]
  },
  {
   "cell_type": "markdown",
   "metadata": {},
   "source": [
    "We are here trying to see which location parameters are important from the perspective of 'review_scores_location' and therefore we can think of it as our target column. In that case, we can drop rows where this target column has NULL values."
   ]
  },
  {
   "cell_type": "code",
   "execution_count": 42,
   "metadata": {},
   "outputs": [],
   "source": [
    "boston_location_df.dropna(subset=['review_scores_location'], inplace=True)"
   ]
  },
  {
   "cell_type": "code",
   "execution_count": 43,
   "metadata": {},
   "outputs": [
    {
     "data": {
      "text/plain": [
       "((2726, 8), 0)"
      ]
     },
     "execution_count": 43,
     "metadata": {},
     "output_type": "execute_result"
    }
   ],
   "source": [
    "boston_location_df.shape, boston_location_df['review_scores_location'].isnull().sum()"
   ]
  },
  {
   "cell_type": "code",
   "execution_count": 44,
   "metadata": {},
   "outputs": [
    {
     "data": {
      "text/plain": [
       "10.0    1604\n",
       "9.0      811\n",
       "8.0      232\n",
       "7.0       43\n",
       "6.0       17\n",
       "4.0        9\n",
       "5.0        5\n",
       "2.0        4\n",
       "3.0        1\n",
       "Name: review_scores_location, dtype: int64"
      ]
     },
     "execution_count": 44,
     "metadata": {},
     "output_type": "execute_result"
    }
   ],
   "source": [
    "boston_location_df['review_scores_location'].value_counts()"
   ]
  },
  {
   "cell_type": "markdown",
   "metadata": {},
   "source": [
    "'review_scores_location' have 9 different values. Our goal is to find out which locations have better review scores over others. For this purpose, we really donot need to handle all these 9 different values individually. Rather we can form groups according to the following prescription :\n",
    "\n",
    "1. 'low ' : scores in the range [1,5)\n",
    "2. 'average' : scores in the range [5,7]\n",
    "3. 'high' : score in the range [8,10]\n",
    "\n",
    "Let's create another column which will describe which of the above group a particular score belongs to."
   ]
  },
  {
   "cell_type": "code",
   "execution_count": 45,
   "metadata": {},
   "outputs": [],
   "source": [
    "def value_to_group(value) :\n",
    "    \"\"\"\n",
    "    Replace an input value with a group according to the following assignment:\n",
    "    \n",
    "    'low' : for value in the range [1,5)\n",
    "    'average' : for value in the range [5,7]\n",
    "    'high' : for value in the range [8,10]\n",
    "    \n",
    "    Parameter :\n",
    "      Value (float) : the input number\n",
    "      \n",
    "    Returns :\n",
    "      group : the group to which the 'value' belongs\n",
    "    \n",
    "    \"\"\"\n",
    "    \n",
    "    if (value <5.):\n",
    "        return 'low'\n",
    "    elif (value >=5. and value <=7.):\n",
    "        return 'average'\n",
    "    else:\n",
    "        return 'high'"
   ]
  },
  {
   "cell_type": "code",
   "execution_count": 46,
   "metadata": {},
   "outputs": [],
   "source": [
    "boston_location_df['review_groups_location'] = boston_location_df['review_scores_location'].apply(value_to_group)"
   ]
  },
  {
   "cell_type": "code",
   "execution_count": 47,
   "metadata": {},
   "outputs": [
    {
     "data": {
      "text/plain": [
       "high       2647\n",
       "average      65\n",
       "low          14\n",
       "Name: review_groups_location, dtype: int64"
      ]
     },
     "execution_count": 47,
     "metadata": {},
     "output_type": "execute_result"
    }
   ],
   "source": [
    "boston_location_df['review_groups_location'].value_counts()"
   ]
  },
  {
   "cell_type": "markdown",
   "metadata": {},
   "source": [
    "Note that most of the review scores are on the higher side. "
   ]
  },
  {
   "cell_type": "code",
   "execution_count": 48,
   "metadata": {},
   "outputs": [
    {
     "data": {
      "text/plain": [
       "Index(['neighbourhood_cleansed', 'zipcode', 'calculated_host_listings_count',\n",
       "       'latitude', 'longitude', 'is_location_exact', 'review_scores_location',\n",
       "       'host_local', 'review_groups_location'],\n",
       "      dtype='object')"
      ]
     },
     "execution_count": 48,
     "metadata": {},
     "output_type": "execute_result"
    }
   ],
   "source": [
    "boston_location_df.columns"
   ]
  },
  {
   "cell_type": "code",
   "execution_count": 49,
   "metadata": {},
   "outputs": [
    {
     "data": {
      "text/plain": [
       "7"
      ]
     },
     "execution_count": 49,
     "metadata": {},
     "output_type": "execute_result"
    }
   ],
   "source": [
    "boston_location_df.groupby('review_groups_location').get_group('low')['neighbourhood_cleansed'].nunique()"
   ]
  },
  {
   "cell_type": "code",
   "execution_count": 50,
   "metadata": {},
   "outputs": [
    {
     "data": {
      "text/plain": [
       "Jamaica Plain              294\n",
       "South End                  268\n",
       "Back Bay                   235\n",
       "Dorchester                 224\n",
       "Fenway                     185\n",
       "Allston                    176\n",
       "Beacon Hill                168\n",
       "South Boston               153\n",
       "East Boston                136\n",
       "North End                  120\n",
       "Brighton                   118\n",
       "Downtown                   118\n",
       "Roxbury                    116\n",
       "Mission Hill                79\n",
       "Charlestown                 67\n",
       "South Boston Waterfront     58\n",
       "Roslindale                  50\n",
       "Chinatown                   41\n",
       "West Roxbury                30\n",
       "West End                    26\n",
       "Hyde Park                   25\n",
       "Mattapan                    17\n",
       "Bay Village                 16\n",
       "Leather District             3\n",
       "Longwood Medical Area        3\n",
       "Name: neighbourhood_cleansed, dtype: int64"
      ]
     },
     "execution_count": 50,
     "metadata": {},
     "output_type": "execute_result"
    }
   ],
   "source": [
    "boston_location_df['neighbourhood_cleansed'].value_counts()"
   ]
  },
  {
   "cell_type": "markdown",
   "metadata": {},
   "source": [
    "Let's find out the location scores of neighbourhoods with large listing numbers, e.g. the first 15 neighbourhoods."
   ]
  },
  {
   "cell_type": "code",
   "execution_count": 51,
   "metadata": {},
   "outputs": [
    {
     "data": {
      "text/plain": [
       "Index(['Jamaica Plain', 'South End', 'Back Bay', 'Dorchester', 'Fenway',\n",
       "       'Allston', 'Beacon Hill', 'South Boston', 'East Boston', 'North End',\n",
       "       'Brighton', 'Downtown', 'Roxbury', 'Mission Hill', 'Charlestown'],\n",
       "      dtype='object')"
      ]
     },
     "execution_count": 51,
     "metadata": {},
     "output_type": "execute_result"
    }
   ],
   "source": [
    "boston_location_df['neighbourhood_cleansed'].value_counts()[:15].index"
   ]
  },
  {
   "cell_type": "code",
   "execution_count": 52,
   "metadata": {},
   "outputs": [
    {
     "data": {
      "text/plain": [
       "<matplotlib.legend.Legend at 0x7fd1f870dad0>"
      ]
     },
     "execution_count": 52,
     "metadata": {},
     "output_type": "execute_result"
    },
    {
     "data": {
      "image/png": "[encoded data removed]",
      "text/plain": [
       "<Figure size 864x576 with 1 Axes>"
      ]
     },
     "metadata": {
      "needs_background": "light"
     },
     "output_type": "display_data"
    }
   ],
   "source": [
    "neighbourhood_list = ['Jamaica Plain', 'South End', 'Back Bay', 'Dorchester', 'Fenway','Allston', 'Beacon Hill',\n",
    "                      'South Boston', 'East Boston', 'North End','Brighton', 'Downtown', 'Roxbury', 'Mission Hill',\n",
    "                      'Charlestown']\n",
    "\n",
    "plt.figure(figsize=(12,8))\n",
    "\n",
    "sns.countplot(boston_location_df[boston_location_df['neighbourhood_cleansed'].isin(neighbourhood_list)]['neighbourhood_cleansed'], \n",
    "              hue=boston_location_df['review_groups_location'],\n",
    "              order = neighbourhood_list)\n",
    "plt.xlabel('neighbourhood name')\n",
    "plt.xticks(rotation=90)\n",
    "plt.title('Plot 1 : review score as a function of neighbouhood')\n",
    "plt.yscale('log')\n",
    "plt.legend(loc='center right', bbox_to_anchor=(1.2,0.5))"
   ]
  },
  {
   "cell_type": "markdown",
   "metadata": {},
   "source": [
    "Although in most of the cases neighbouhoods with highest listings have high scores, some of them (e.g. 'Dorchester', 'Roxbury', 'Fenway') have non negligible amount of average or low scores. "
   ]
  },
  {
   "cell_type": "code",
   "execution_count": 53,
   "metadata": {},
   "outputs": [
    {
     "data": {
      "image/png": "[encoded data removed]",
      "text/plain": [
       "<Figure size 864x432 with 2 Axes>"
      ]
     },
     "metadata": {
      "needs_background": "light"
     },
     "output_type": "display_data"
    }
   ],
   "source": [
    "fig, ax = plt.subplots(1,2, figsize=(12,6))\n",
    "sns.countplot('host_local', data=boston_location_df, ax=ax[0])\n",
    "sns.countplot('review_groups_location', hue='host_local', data=boston_location_df, ax=ax[1])\n",
    "ax[1].set_yscale('log')\n",
    "ax[1].set_xlabel('scores')\n",
    "fig.tight_layout()"
   ]
  },
  {
   "cell_type": "markdown",
   "metadata": {},
   "source": [
    "So **most of the hosts are local**. For both local and non-local hosts, 'high' score group dominates over others."
   ]
  },
  {
   "cell_type": "code",
   "execution_count": 54,
   "metadata": {},
   "outputs": [
    {
     "data": {
      "text/plain": [
       "<matplotlib.legend.Legend at 0x7fd1f809fed0>"
      ]
     },
     "execution_count": 54,
     "metadata": {},
     "output_type": "execute_result"
    },
    {
     "data": {
      "image/png": "[encoded data removed]",
      "text/plain": [
       "<Figure size 864x576 with 1 Axes>"
      ]
     },
     "metadata": {
      "needs_background": "light"
     },
     "output_type": "display_data"
    }
   ],
   "source": [
    "plt.figure(figsize=(12,8))\n",
    "\n",
    "sns.countplot(boston_location_df[boston_location_df['neighbourhood_cleansed'].isin(neighbourhood_list)]['neighbourhood_cleansed'], \n",
    "              hue=boston_location_df['host_local'],order = neighbourhood_list)\n",
    "plt.xlabel('neighbourhood name')\n",
    "plt.xticks(rotation=90)\n",
    "plt.title('Plot 2 : neighbouhood as a function of locality of host')\n",
    "plt.yscale('log')\n",
    "plt.legend(loc='best')"
   ]
  },
  {
   "cell_type": "markdown",
   "metadata": {},
   "source": [
    "Some of the interesting points to note :\n",
    "\n",
    "1. Although neighbourhoods like 'South End', 'Back Bay' have large number of non-local hosts, they have only high ratings (Plot 1).\n",
    "2. 'Fenway' has a comparable number of local and non-local hosts but high score group dominates over the rest."
   ]
  },
  {
   "cell_type": "code",
   "execution_count": 55,
   "metadata": {},
   "outputs": [
    {
     "data": {
      "text/plain": [
       "<matplotlib.axes._subplots.AxesSubplot at 0x7fd1f8380950>"
      ]
     },
     "execution_count": 55,
     "metadata": {},
     "output_type": "execute_result"
    },
    {
     "data": {
      "image/png": "[encoded data removed]",
      "text/plain": [
       "<Figure size 720x576 with 1 Axes>"
      ]
     },
     "metadata": {
      "needs_background": "light"
     },
     "output_type": "display_data"
    }
   ],
   "source": [
    "plt.figure(figsize=(10,8))\n",
    "sns.boxplot(x='host_local', y='review_scores_location', data=boston_location_df)"
   ]
  },
  {
   "cell_type": "markdown",
   "metadata": {},
   "source": [
    "Both the local and non-local hosts have nearly identical score distributions."
   ]
  },
  {
   "cell_type": "code",
   "execution_count": 56,
   "metadata": {},
   "outputs": [
    {
     "data": {
      "text/plain": [
       "Index(['neighbourhood_cleansed', 'zipcode', 'calculated_host_listings_count',\n",
       "       'latitude', 'longitude', 'is_location_exact', 'review_scores_location',\n",
       "       'host_local', 'review_groups_location'],\n",
       "      dtype='object')"
      ]
     },
     "execution_count": 56,
     "metadata": {},
     "output_type": "execute_result"
    }
   ],
   "source": [
    "boston_location_df.columns"
   ]
  },
  {
   "cell_type": "code",
   "execution_count": 57,
   "metadata": {},
   "outputs": [
    {
     "data": {
      "image/png": "[encoded data removed]",
      "text/plain": [
       "<Figure size 864x432 with 3 Axes>"
      ]
     },
     "metadata": {
      "needs_background": "light"
     },
     "output_type": "display_data"
    }
   ],
   "source": [
    "fig, ax = plt.subplots(1, 3, figsize=(12,6))\n",
    "sns.countplot('is_location_exact', data=boston_location_df, ax=ax[0])\n",
    "sns.countplot('is_location_exact', hue='review_groups_location', data=boston_location_df, ax=ax[1])\n",
    "sns.countplot('is_location_exact', hue='host_local', data=boston_location_df, ax=ax[2])\n",
    "ax[1].set_yscale('log')\n",
    "fig.tight_layout()"
   ]
  },
  {
   "cell_type": "markdown",
   "metadata": {},
   "source": [
    "Total number of listings with exact location belonging to high score group is higher then listings with no exact location. Also both local and non-local hosts have more number of listings with exact locations."
   ]
  },
  {
   "cell_type": "code",
   "execution_count": 58,
   "metadata": {},
   "outputs": [
    {
     "data": {
      "text/plain": [
       "<matplotlib.axes._subplots.AxesSubplot at 0x7fd1f7c963d0>"
      ]
     },
     "execution_count": 58,
     "metadata": {},
     "output_type": "execute_result"
    },
    {
     "data": {
      "image/png": "[encoded data removed]",
      "text/plain": [
       "<Figure size 432x288 with 1 Axes>"
      ]
     },
     "metadata": {
      "needs_background": "light"
     },
     "output_type": "display_data"
    }
   ],
   "source": [
    "sns.barplot(x='host_local', y='calculated_host_listings_count', data=boston_location_df)"
   ]
  },
  {
   "cell_type": "markdown",
   "metadata": {},
   "source": [
    "Non-local hosts have larger number of listings as compared to local hosts. Well that is not surprising! You are more likely to give your house on rent if you are living outside the city."
   ]
  },
  {
   "cell_type": "code",
   "execution_count": 59,
   "metadata": {},
   "outputs": [
    {
     "data": {
      "text/plain": [
       "<matplotlib.axes._subplots.AxesSubplot at 0x7fd1f793e050>"
      ]
     },
     "execution_count": 59,
     "metadata": {},
     "output_type": "execute_result"
    },
    {
     "data": {
      "image/png": "[encoded data removed]",
      "text/plain": [
       "<Figure size 1008x432 with 2 Axes>"
      ]
     },
     "metadata": {
      "needs_background": "light"
     },
     "output_type": "display_data"
    }
   ],
   "source": [
    "fig, ax = plt.subplots(1, 2, figsize=(14,6))\n",
    "sns.barplot(x='host_local', y='calculated_host_listings_count', hue='review_groups_location', data=boston_location_df, ax=ax[0])\n",
    "sns.barplot(x='host_local', y='calculated_host_listings_count', hue='review_scores_location', data=boston_location_df, ax=ax[1])"
   ]
  },
  {
   "cell_type": "markdown",
   "metadata": {},
   "source": [
    "From the above plots it is evident that non-local hosts have maximum of the listings with low scores whereas average score is more common in case of listings of the local hosts"
   ]
  },
  {
   "cell_type": "markdown",
   "metadata": {},
   "source": [
    "**Question 2** : What causes a property to cost more than others?\n",
    "\n",
    "Let's start with the following features."
   ]
  },
  {
   "cell_type": "code",
   "execution_count": 3,
   "metadata": {},
   "outputs": [],
   "source": [
    "boston_price_df = boston_df[['host_verifications', 'host_identity_verified', 'property_type', 'room_type', 'accommodates',\n",
    "       'bathrooms', 'bedrooms', 'beds', 'bed_type', 'amenities', 'square_feet', 'calculated_host_listings_count',\n",
    "       'price']]"
   ]
  },
  {
   "cell_type": "markdown",
   "metadata": {},
   "source": [
    "Let's first calculate percentage of NULL values in each feature."
   ]
  },
  {
   "cell_type": "code",
   "execution_count": 4,
   "metadata": {},
   "outputs": [
    {
     "data": {
      "text/plain": [
       "host_verifications                0.000000\n",
       "host_identity_verified            0.000000\n",
       "room_type                         0.000000\n",
       "accommodates                      0.000000\n",
       "bed_type                          0.000000\n",
       "amenities                         0.000000\n",
       "calculated_host_listings_count    0.000000\n",
       "price                             0.000000\n",
       "property_type                     0.000837\n",
       "beds                              0.002510\n",
       "bedrooms                          0.002789\n",
       "bathrooms                         0.003905\n",
       "square_feet                       0.984379\n",
       "dtype: float64"
      ]
     },
     "execution_count": 4,
     "metadata": {},
     "output_type": "execute_result"
    }
   ],
   "source": [
    "boston_price_df.isnull().sum().sort_values()/len(boston_price_df)"
   ]
  },
  {
   "cell_type": "markdown",
   "metadata": {},
   "source": [
    "Except 'square_feet' which has almost 98% of it's value as NULL, rest of the features either have no or very few NULL values. The feature 'square_feet' is related indirectly to other features like 'bedrooms', 'bathrooms', 'accomodates' because larger the size of the property more rooms it is likely tohave and more guests it can accomodate. So let's just drop the column 'square_feet'."
   ]
  },
  {
   "cell_type": "code",
   "execution_count": 5,
   "metadata": {},
   "outputs": [
    {
     "name": "stderr",
     "output_type": "stream",
     "text": [
      "/home/nabanita/anaconda3/envs/my_env_py3.7.4/lib/python3.7/site-packages/pandas/core/frame.py:4117: SettingWithCopyWarning: \n",
      "A value is trying to be set on a copy of a slice from a DataFrame\n",
      "\n",
      "See the caveats in the documentation: http://pandas.pydata.org/pandas-docs/stable/user_guide/indexing.html#returning-a-view-versus-a-copy\n",
      "  errors=errors,\n"
     ]
    }
   ],
   "source": [
    "boston_price_df.drop('square_feet', axis=1, inplace=True)"
   ]
  },
  {
   "cell_type": "code",
   "execution_count": 157,
   "metadata": {},
   "outputs": [],
   "source": [
    "#boston_price_df['host_identity_verified'].value_counts()"
   ]
  },
  {
   "cell_type": "code",
   "execution_count": 7,
   "metadata": {},
   "outputs": [
    {
     "data": {
      "text/html": [
       "<div>\n",
       "<style scoped>\n",
       "    .dataframe tbody tr th:only-of-type {\n",
       "        vertical-align: middle;\n",
       "    }\n",
       "\n",
       "    .dataframe tbody tr th {\n",
       "        vertical-align: top;\n",
       "    }\n",
       "\n",
       "    .dataframe thead th {\n",
       "        text-align: right;\n",
       "    }\n",
       "</style>\n",
       "<table border=\"1\" class=\"dataframe\">\n",
       "  <thead>\n",
       "    <tr style=\"text-align: right;\">\n",
       "      <th></th>\n",
       "      <th>host_verifications</th>\n",
       "      <th>host_identity_verified</th>\n",
       "    </tr>\n",
       "  </thead>\n",
       "  <tbody>\n",
       "    <tr>\n",
       "      <th>0</th>\n",
       "      <td>['email', 'phone', 'facebook', 'reviews']</td>\n",
       "      <td>f</td>\n",
       "    </tr>\n",
       "    <tr>\n",
       "      <th>1</th>\n",
       "      <td>['email', 'phone', 'facebook', 'linkedin', 'am...</td>\n",
       "      <td>t</td>\n",
       "    </tr>\n",
       "    <tr>\n",
       "      <th>2</th>\n",
       "      <td>['email', 'phone', 'reviews', 'jumio']</td>\n",
       "      <td>t</td>\n",
       "    </tr>\n",
       "    <tr>\n",
       "      <th>3</th>\n",
       "      <td>['email', 'phone', 'reviews']</td>\n",
       "      <td>f</td>\n",
       "    </tr>\n",
       "    <tr>\n",
       "      <th>4</th>\n",
       "      <td>['email', 'phone', 'reviews', 'kba']</td>\n",
       "      <td>t</td>\n",
       "    </tr>\n",
       "  </tbody>\n",
       "</table>\n",
       "</div>"
      ],
      "text/plain": [
       "                                  host_verifications host_identity_verified\n",
       "0          ['email', 'phone', 'facebook', 'reviews']                      f\n",
       "1  ['email', 'phone', 'facebook', 'linkedin', 'am...                      t\n",
       "2             ['email', 'phone', 'reviews', 'jumio']                      t\n",
       "3                      ['email', 'phone', 'reviews']                      f\n",
       "4               ['email', 'phone', 'reviews', 'kba']                      t"
      ]
     },
     "execution_count": 7,
     "metadata": {},
     "output_type": "execute_result"
    }
   ],
   "source": [
    "boston_price_df[['host_verifications', 'host_identity_verified']].head()"
   ]
  },
  {
   "cell_type": "markdown",
   "metadata": {},
   "source": [
    "'host_verifications' contains several platforms on which the identity of a particular host can be verified whereas 'host_identity_verified' represents either the identity of a host has been verified or not. For a customer, the later feature is more important than the former one. Let's just drop the column 'host_verifications'."
   ]
  },
  {
   "cell_type": "code",
   "execution_count": 8,
   "metadata": {},
   "outputs": [],
   "source": [
    "boston_price_df.drop('host_verifications', axis=1, inplace=True)"
   ]
  },
  {
   "cell_type": "code",
   "execution_count": 9,
   "metadata": {},
   "outputs": [
    {
     "data": {
      "text/plain": [
       "Apartment          2612\n",
       "House               562\n",
       "Condominium         231\n",
       "Townhouse            54\n",
       "Bed & Breakfast      41\n",
       "Loft                 39\n",
       "Other                17\n",
       "Boat                 12\n",
       "Villa                 6\n",
       "Entire Floor          4\n",
       "Dorm                  2\n",
       "Guesthouse            1\n",
       "Camper/RV             1\n",
       "Name: property_type, dtype: int64"
      ]
     },
     "execution_count": 9,
     "metadata": {},
     "output_type": "execute_result"
    }
   ],
   "source": [
    "boston_price_df['property_type'].value_counts()"
   ]
  },
  {
   "cell_type": "code",
   "execution_count": 10,
   "metadata": {},
   "outputs": [
    {
     "data": {
      "text/plain": [
       "Entire home/apt    2127\n",
       "Private room       1378\n",
       "Shared room          80\n",
       "Name: room_type, dtype: int64"
      ]
     },
     "execution_count": 10,
     "metadata": {},
     "output_type": "execute_result"
    }
   ],
   "source": [
    "boston_price_df['room_type'].value_counts()"
   ]
  },
  {
   "cell_type": "code",
   "execution_count": 11,
   "metadata": {},
   "outputs": [
    {
     "data": {
      "text/plain": [
       "Real Bed         3453\n",
       "Futon              51\n",
       "Airbed             40\n",
       "Pull-out Sofa      31\n",
       "Couch              10\n",
       "Name: bed_type, dtype: int64"
      ]
     },
     "execution_count": 11,
     "metadata": {},
     "output_type": "execute_result"
    }
   ],
   "source": [
    "boston_price_df['bed_type'].value_counts()"
   ]
  },
  {
   "cell_type": "code",
   "execution_count": 12,
   "metadata": {},
   "outputs": [
    {
     "name": "stdout",
     "output_type": "stream",
     "text": [
      "{TV,\"Wireless Internet\",Kitchen,\"Free Parking on Premises\",\"Pets live on this property\",Dog(s),Heating,\"Family/Kid Friendly\",Washer,Dryer,\"Smoke Detector\",\"Fire Extinguisher\",Essentials,Shampoo,\"Laptop Friendly Workspace\"}\n",
      "\n",
      "\n",
      "{TV,Internet,\"Wireless Internet\",\"Air Conditioning\",Kitchen,\"Pets Allowed\",\"Pets live on this property\",Dog(s),Heating,\"Family/Kid Friendly\",Washer,Dryer,\"Smoke Detector\",\"Carbon Monoxide Detector\",\"Fire Extinguisher\",Essentials,Shampoo,\"Lock on Bedroom Door\",Hangers,\"Hair Dryer\",Iron}\n",
      "\n",
      "\n",
      "{TV,\"Cable TV\",\"Wireless Internet\",\"Air Conditioning\",Kitchen,\"Free Parking on Premises\",Heating,Washer,Dryer,\"Smoke Detector\",\"Carbon Monoxide Detector\",\"First Aid Kit\",\"Safety Card\",Essentials,Shampoo,\"Lock on Bedroom Door\",\"translation missing: en.hosting_amenity_49\",\"translation missing: en.hosting_amenity_50\"}\n",
      "\n",
      "\n",
      "{TV,Internet,\"Wireless Internet\",\"Air Conditioning\",Kitchen,\"Free Parking on Premises\",Gym,Breakfast,\"Indoor Fireplace\",Heating,Washer,Dryer,\"Smoke Detector\",\"Carbon Monoxide Detector\",\"First Aid Kit\",\"Safety Card\",\"Fire Extinguisher\",Essentials,Shampoo,Hangers,\"Hair Dryer\",Iron,\"Laptop Friendly Workspace\"}\n",
      "\n",
      "\n",
      "{Internet,\"Wireless Internet\",\"Air Conditioning\",Kitchen,Breakfast,Heating,\"Smoke Detector\",\"Carbon Monoxide Detector\",\"First Aid Kit\",Essentials,Shampoo,Hangers,\"Hair Dryer\",Iron}\n",
      "\n",
      "\n"
     ]
    }
   ],
   "source": [
    "for items in boston_price_df['amenities'].values[:5]:\n",
    "    print(items)\n",
    "    print('\\n')"
   ]
  },
  {
   "cell_type": "code",
   "execution_count": 13,
   "metadata": {},
   "outputs": [
    {
     "data": {
      "text/plain": [
       "3092"
      ]
     },
     "execution_count": 13,
     "metadata": {},
     "output_type": "execute_result"
    }
   ],
   "source": [
    "boston_price_df['amenities'].nunique()"
   ]
  },
  {
   "cell_type": "markdown",
   "metadata": {},
   "source": [
    "So the feature 'amenities' basically enlists all the facilites provided to guests. It has 3092 unique values! It is nearly impossible to deal with so many different categories. Instead it might be useful to calculate how many amenities does a particular property offer to it's guests. Let's create a new column 'amenities_count' that gives total number of amenities provided in each listing and then drop the original one. But we first need to clean the data."
   ]
  },
  {
   "cell_type": "code",
   "execution_count": 14,
   "metadata": {},
   "outputs": [
    {
     "data": {
      "text/plain": [
       "host_identity_verified             object\n",
       "property_type                      object\n",
       "room_type                          object\n",
       "accommodates                        int64\n",
       "bathrooms                         float64\n",
       "bedrooms                          float64\n",
       "beds                              float64\n",
       "bed_type                           object\n",
       "amenities                          object\n",
       "calculated_host_listings_count      int64\n",
       "price                              object\n",
       "dtype: object"
      ]
     },
     "execution_count": 14,
     "metadata": {},
     "output_type": "execute_result"
    }
   ],
   "source": [
    "boston_price_df.dtypes"
   ]
  },
  {
   "cell_type": "markdown",
   "metadata": {},
   "source": [
    "Each of the entries in 'amenities' column is read as a single 'object' type and therefore we cannot apply the len() function directly on it. Note that individual elements inside this big object element are delimited by \",\". So we can convert this single string object to a list of individuals items by splitting it on \",\" and then calculate the length of that list which basically gives you the total number of amenities available in each listing."
   ]
  },
  {
   "cell_type": "code",
   "execution_count": 15,
   "metadata": {},
   "outputs": [
    {
     "name": "stderr",
     "output_type": "stream",
     "text": [
      "/home/nabanita/anaconda3/envs/my_env_py3.7.4/lib/python3.7/site-packages/ipykernel_launcher.py:1: SettingWithCopyWarning: \n",
      "A value is trying to be set on a copy of a slice from a DataFrame.\n",
      "Try using .loc[row_indexer,col_indexer] = value instead\n",
      "\n",
      "See the caveats in the documentation: http://pandas.pydata.org/pandas-docs/stable/user_guide/indexing.html#returning-a-view-versus-a-copy\n",
      "  \"\"\"Entry point for launching an IPython kernel.\n"
     ]
    }
   ],
   "source": [
    "boston_price_df['amenities_count'] = boston_price_df['amenities'].apply(lambda x:len(x.split(\",\")))"
   ]
  },
  {
   "cell_type": "code",
   "execution_count": 16,
   "metadata": {},
   "outputs": [
    {
     "data": {
      "text/plain": [
       "(31, 1)"
      ]
     },
     "execution_count": 16,
     "metadata": {},
     "output_type": "execute_result"
    }
   ],
   "source": [
    "boston_price_df['amenities_count'].max(), boston_price_df['amenities_count'].min()"
   ]
  },
  {
   "cell_type": "markdown",
   "metadata": {},
   "source": [
    "So highest number of amenities offered is 31 whereas the lowest is 1. Now we can drop the 'amenities' column."
   ]
  },
  {
   "cell_type": "code",
   "execution_count": 17,
   "metadata": {},
   "outputs": [],
   "source": [
    "boston_price_df.drop('amenities', axis=1, inplace=True)"
   ]
  },
  {
   "cell_type": "markdown",
   "metadata": {},
   "source": [
    "Our target column 'price' in this case is defined as 'object' type. Let's remove the '$' sign from the front, \",\" from the price (if any) and convert it to 'float' type."
   ]
  },
  {
   "cell_type": "code",
   "execution_count": 18,
   "metadata": {},
   "outputs": [
    {
     "name": "stderr",
     "output_type": "stream",
     "text": [
      "/home/nabanita/anaconda3/envs/my_env_py3.7.4/lib/python3.7/site-packages/ipykernel_launcher.py:1: SettingWithCopyWarning: \n",
      "A value is trying to be set on a copy of a slice from a DataFrame.\n",
      "Try using .loc[row_indexer,col_indexer] = value instead\n",
      "\n",
      "See the caveats in the documentation: http://pandas.pydata.org/pandas-docs/stable/user_guide/indexing.html#returning-a-view-versus-a-copy\n",
      "  \"\"\"Entry point for launching an IPython kernel.\n"
     ]
    }
   ],
   "source": [
    "boston_price_df['price'] = boston_price_df['price'].apply(lambda x : float(x.strip(\"$\").replace(\",\", \"\")))"
   ]
  },
  {
   "cell_type": "markdown",
   "metadata": {},
   "source": [
    "Let's just check that everythig is consistent."
   ]
  },
  {
   "cell_type": "code",
   "execution_count": 19,
   "metadata": {},
   "outputs": [
    {
     "data": {
      "text/plain": [
       "host_identity_verified             object\n",
       "property_type                      object\n",
       "room_type                          object\n",
       "accommodates                        int64\n",
       "bathrooms                         float64\n",
       "bedrooms                          float64\n",
       "beds                              float64\n",
       "bed_type                           object\n",
       "calculated_host_listings_count      int64\n",
       "price                             float64\n",
       "amenities_count                     int64\n",
       "dtype: object"
      ]
     },
     "execution_count": 19,
     "metadata": {},
     "output_type": "execute_result"
    }
   ],
   "source": [
    "boston_price_df.dtypes"
   ]
  },
  {
   "cell_type": "code",
   "execution_count": 24,
   "metadata": {},
   "outputs": [
    {
     "data": {
      "text/plain": [
       "<matplotlib.axes._subplots.AxesSubplot at 0x7fa16d334410>"
      ]
     },
     "execution_count": 24,
     "metadata": {},
     "output_type": "execute_result"
    },
    {
     "data": {
      "image/png": "[encoded data removed]",
      "text/plain": [
       "<Figure size 864x432 with 2 Axes>"
      ]
     },
     "metadata": {
      "needs_background": "light"
     },
     "output_type": "display_data"
    }
   ],
   "source": [
    "fig, ax = plt.subplots(1, 2, figsize=(12,6))\n",
    "sns.barplot(x='room_type', y='price', data=boston_price_df, ax=ax[0])\n",
    "sns.boxplot(x='room_type', y='price', data=boston_price_df, ax=ax[1])"
   ]
  },
  {
   "cell_type": "markdown",
   "metadata": {},
   "source": [
    "So entire home/apartment costs more than private and shared rooms. Private and shared rooms have comparable prices. Each of the categories have quite a few outliers."
   ]
  },
  {
   "cell_type": "code",
   "execution_count": 29,
   "metadata": {},
   "outputs": [
    {
     "data": {
      "text/plain": [
       "<matplotlib.axes._subplots.AxesSubplot at 0x7fa16b32cad0>"
      ]
     },
     "execution_count": 29,
     "metadata": {},
     "output_type": "execute_result"
    },
    {
     "data": {
      "image/png": "[encoded data removed]",
      "text/plain": [
       "<Figure size 864x576 with 1 Axes>"
      ]
     },
     "metadata": {
      "needs_background": "light"
     },
     "output_type": "display_data"
    }
   ],
   "source": [
    "plt.figure(figsize=(12,8))\n",
    "sns.barplot(x='accommodates', y='price', data=boston_price_df)"
   ]
  },
  {
   "cell_type": "markdown",
   "metadata": {},
   "source": [
    "Prices gradually increases for an increasing value of accommodates. However after a certain value (here 12), it shows a downward trend."
   ]
  },
  {
   "cell_type": "code",
   "execution_count": 34,
   "metadata": {},
   "outputs": [
    {
     "data": {
      "image/png": "[encoded data removed]",
      "text/plain": [
       "<Figure size 1008x576 with 2 Axes>"
      ]
     },
     "metadata": {
      "needs_background": "light"
     },
     "output_type": "display_data"
    }
   ],
   "source": [
    "fig, ax = plt.subplots(1, 2, figsize=(14,8))\n",
    "sns.barplot(x='bed_type', y='price', data=boston_price_df, ax=ax[0])\n",
    "sns.barplot(x='bed_type', y='price', hue='room_type', data=boston_price_df, ax=ax[1])\n",
    "fig.tight_layout()"
   ]
  },
  {
   "cell_type": "markdown",
   "metadata": {},
   "source": [
    "Listings that come with 'real beds' costs the most whereas that with airbeds costs the lowest. Another interesting point is that, entire home or apartments donot come with options of airbeds and couches whereas shared rooms with airbeds and private rooms with couches are costlier. An entire home or apartment with real beds is the cosliest option."
   ]
  },
  {
   "cell_type": "code",
   "execution_count": 53,
   "metadata": {},
   "outputs": [
    {
     "data": {
      "text/plain": [
       "array(['House', 'Apartment', 'Condominium', 'Villa', 'Bed & Breakfast',\n",
       "       'Townhouse', 'Entire Floor', 'Loft', 'Guesthouse', 'Boat', 'Dorm',\n",
       "       'Other', nan, 'Camper/RV'], dtype=object)"
      ]
     },
     "execution_count": 53,
     "metadata": {},
     "output_type": "execute_result"
    }
   ],
   "source": [
    "boston_price_df['property_type'].unique()"
   ]
  },
  {
   "cell_type": "code",
   "execution_count": 55,
   "metadata": {},
   "outputs": [
    {
     "data": {
      "image/png": "[encoded data removed]",
      "text/plain": [
       "<Figure size 1008x576 with 2 Axes>"
      ]
     },
     "metadata": {
      "needs_background": "light"
     },
     "output_type": "display_data"
    }
   ],
   "source": [
    "labels = ['House', 'Apartment', 'Condominium', 'Villa', 'Bed & Breakfast',\n",
    "       'Townhouse', 'Entire Floor', 'Loft', 'Guesthouse', 'Boat', 'Dorm',\n",
    "       'Other', 'Camper/RV']\n",
    "\n",
    "fig, ax = plt.subplots(1,2, figsize=(14,8))\n",
    "sns.countplot(x='property_type', data=boston_price_df, ax=ax[0])\n",
    "sns.barplot(x='property_type', y='price', data=boston_price_df, ax=ax[1])\n",
    "ax[0].set_xticklabels(labels, rotation=45)\n",
    "ax[1].set_xticklabels(labels, rotation=45)\n",
    "ax[0].set_yscale('log')\n",
    "fig.tight_layout()"
   ]
  },
  {
   "cell_type": "markdown",
   "metadata": {},
   "source": [
    "Three property types have most number of listings - apartment, house and condominium. Although total number of listings for guetshouse type properties is the lowest, it has the highest price among all other available properties. Boats cost almost same as guesthouses. The cheapest properties are dorms and campers."
   ]
  },
  {
   "cell_type": "code",
   "execution_count": 62,
   "metadata": {},
   "outputs": [
    {
     "data": {
      "image/png": "[encoded data removed]",
      "text/plain": [
       "<Figure size 864x576 with 1 Axes>"
      ]
     },
     "metadata": {
      "needs_background": "light"
     },
     "output_type": "display_data"
    }
   ],
   "source": [
    "plt.figure(figsize=(12,8))\n",
    "sns.countplot(x='property_type', hue='host_identity_verified', data=boston_price_df)\n",
    "plt.xticks(rotation=45)\n",
    "plt.yscale('log')"
   ]
  },
  {
   "cell_type": "markdown",
   "metadata": {},
   "source": [
    "Almost all of the properties have comparable number of listings with host identity verified and not verified. The property with least number of listings and highest price that is guesthouses has none of it's host's identity verified and thus might not be reliable."
   ]
  },
  {
   "cell_type": "code",
   "execution_count": 107,
   "metadata": {},
   "outputs": [
    {
     "data": {
      "image/png": "[encoded data removed]",
      "text/plain": [
       "<Figure size 864x432 with 4 Axes>"
      ]
     },
     "metadata": {},
     "output_type": "display_data"
    }
   ],
   "source": [
    "fig, ax = plt.subplots(2, 2, figsize=(12,6))\n",
    "sns.lineplot(x='bedrooms', y='price', data=boston_price_df, ax=ax[0,0])\n",
    "sns.lineplot(x='bathrooms', y='price', data=boston_price_df, ax=ax[0,1])\n",
    "sns.lineplot(x='beds', y='price', data=boston_price_df, ax=ax[1,0])\n",
    "sns.lineplot(x='amenities_count', y='price', data=boston_price_df, ax=ax[1,1])\n",
    "fig.tight_layout()"
   ]
  },
  {
   "cell_type": "markdown",
   "metadata": {},
   "source": [
    "Listings with increasing number of bedrooms have an almost steady increase in their prices. Price is lower when 'beds' is around 16 as compared to listings with beds around 4-9. Price shows very little variation as a function of 'bathrooms' and 'amenities_count'. Note that, there is a sudden pick in the upper right plot. This most likely indicates presence of some outlier data points."
   ]
  },
  {
   "cell_type": "markdown",
   "metadata": {},
   "source": [
    "The impact of each of these features on the price can be best understood with the help of heatmap."
   ]
  },
  {
   "cell_type": "code",
   "execution_count": 111,
   "metadata": {},
   "outputs": [
    {
     "data": {
      "text/plain": [
       "(7.0, 0.0)"
      ]
     },
     "execution_count": 111,
     "metadata": {},
     "output_type": "execute_result"
    },
    {
     "data": {
      "image/png": "[encoded data removed]",
      "text/plain": [
       "<Figure size 864x576 with 2 Axes>"
      ]
     },
     "metadata": {},
     "output_type": "display_data"
    }
   ],
   "source": [
    "plt.figure(figsize=(12,8))\n",
    "ax = sns.heatmap(boston_price_df.corr(), annot=True, cmap='viridis')\n",
    "bottom, top = ax.get_ylim()\n",
    "ax.set_ylim(bottom + 0.5, top - 0.5)"
   ]
  },
  {
   "cell_type": "markdown",
   "metadata": {},
   "source": [
    "The above heatmap shows correlations between different numerical features and price of a listing. Some of the highly correlated feature pairs are : 'accommodates'-'bedrooms', 'accommodates'-'beds', 'bedrooms'-'beds'. The feature that is seen to have mo "
   ]
  }
 ],
 "metadata": {
  "kernelspec": {
   "display_name": "Python 3",
   "language": "python",
   "name": "python3"
  },
  "language_info": {
   "codemirror_mode": {
    "name": "ipython",
    "version": 3
   },
   "file_extension": ".py",
   "mimetype": "text/x-python",
   "name": "python",
   "nbconvert_exporter": "python",
   "pygments_lexer": "ipython3",
   "version": "3.7.4"
  }
 },
 "nbformat": 4,
 "nbformat_minor": 4
}
